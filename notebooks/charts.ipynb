{
  "cells": [
    {
      "cell_type": "markdown",
      "metadata": {
        "id": "90JYR9MAp6AZ"
      },
      "source": [
        "# Charts"
      ]
    },
    {
      "cell_type": "code",
      "execution_count": null,
      "metadata": {
        "id": "DHWK8ws4p6Ag"
      },
      "outputs": [],
      "source": [
        "import numpy as np\n",
        "import pandas as pd\n",
        "df = pd.read_csv(\"IMDB-Movie-Data.csv\", index_col=\"Title\")"
      ]
    },
    {
      "cell_type": "code",
      "execution_count": null,
      "metadata": {
        "id": "olFDRdkNp6Ah"
      },
      "outputs": [],
      "source": [
        "df.head(5)"
      ]
    },
    {
      "cell_type": "code",
      "execution_count": null,
      "metadata": {
        "id": "U5gUHI1Ap6Ai"
      },
      "outputs": [],
      "source": [
        "df[\"Genre\"] = df[\"Genre\"].str.split(\",\")"
      ]
    },
    {
      "cell_type": "code",
      "execution_count": null,
      "metadata": {
        "id": "MwPXXSsIp6Ak"
      },
      "outputs": [],
      "source": [
        "df = df.explode(\"Genre\")"
      ]
    },
    {
      "cell_type": "code",
      "execution_count": null,
      "metadata": {
        "id": "VXxDkmyqp6Al"
      },
      "outputs": [],
      "source": [
        "df.head()"
      ]
    },
    {
      "cell_type": "code",
      "execution_count": null,
      "metadata": {
        "id": "rh0zVtw6p6Ap"
      },
      "outputs": [],
      "source": [
        "mydata = df[ df[\"Genre\"].isin([\"Action\",\"Adventure\", \"Sci-Fi\"])]"
      ]
    },
    {
      "cell_type": "code",
      "execution_count": null,
      "metadata": {
        "id": "TAzSa5cEp6Aq"
      },
      "outputs": [],
      "source": [
        "votes = mydata.pivot_table('Votes', index='Year', columns='Genre', aggfunc='sum')\n",
        "votes"
      ]
    },
    {
      "cell_type": "code",
      "execution_count": null,
      "metadata": {
        "id": "8Q7FiXN_p6Ar"
      },
      "outputs": [],
      "source": [
        "%matplotlib inline\n",
        "import matplotlib.pyplot as plt\n",
        "import seaborn as sns\n",
        "sns.set()  # use Seaborn styles"
      ]
    },
    {
      "cell_type": "code",
      "execution_count": null,
      "metadata": {
        "id": "0HhdChQzp6As"
      },
      "outputs": [],
      "source": [
        "votes.plot(kind=\"bar\");\n",
        "plt.ylabel('Ratings by Genre by Year');"
      ]
    },
    {
      "cell_type": "code",
      "execution_count": null,
      "metadata": {
        "id": "iW3cyO7Op6At"
      },
      "outputs": [],
      "source": [
        "votes.plot(figsize=(10,4), kind=\"line\");\n",
        "plt.ylabel('Ratings by Genre by Year');\n",
        "plt.legend(ncol=2, loc='upper left');"
      ]
    },
    {
      "cell_type": "markdown",
      "metadata": {
        "id": "MjLuWc6zp6At"
      },
      "source": [
        "The same result can be achieved using `plt.plot()`"
      ]
    },
    {
      "cell_type": "code",
      "execution_count": null,
      "metadata": {
        "id": "BbN6myM4p6Au"
      },
      "outputs": [],
      "source": [
        "plt.figure(figsize=(10,4))\n",
        "plt.plot(votes)\n",
        "plt.legend(votes.columns, ncol=2, loc='upper left')\n",
        "plt.xticks(rotation = 90)\n",
        "plt.ylabel('Ratings by Genre by Year');"
      ]
    },
    {
      "cell_type": "markdown",
      "metadata": {
        "id": "EPVwHD-op6Au"
      },
      "source": [
        "histogram ..."
      ]
    },
    {
      "cell_type": "code",
      "execution_count": null,
      "metadata": {
        "id": "kFllIFMhp6Av"
      },
      "outputs": [],
      "source": [
        "plt.hist(df[df[\"Year\"]==2015][\"Rating\"], alpha=0.5)\n",
        "plt.hist(df[df[\"Year\"]==2013][\"Rating\"], alpha=0.5);"
      ]
    },
    {
      "cell_type": "markdown",
      "metadata": {
        "id": "jS6f-qq8p6Av"
      },
      "source": [
        "### seaborn.kdeplot\n",
        "Rather than a histogram, we can get a smooth estimate of the distribution using a kernel density estimation, which Seaborn does with `sns.kdeplot`. For additional information check [seaborn.kdeplot](https://seaborn.pydata.org/generated/seaborn.kdeplot.html)"
      ]
    },
    {
      "cell_type": "code",
      "source": [
        "df.reset_index(inplace=True)\n",
        "df.head()"
      ],
      "metadata": {
        "id": "WrW4gG8uqIsx"
      },
      "execution_count": null,
      "outputs": []
    },
    {
      "cell_type": "code",
      "execution_count": null,
      "metadata": {
        "id": "F_iOv2aJp6Av"
      },
      "outputs": [],
      "source": [
        "sns.kdeplot(df[df[\"Year\"]==2015][\"Rating\"], shade=True)\n",
        "sns.kdeplot(df[df[\"Year\"]==2013][\"Rating\"], shade=True);"
      ]
    },
    {
      "cell_type": "code",
      "execution_count": null,
      "metadata": {
        "id": "AnOmX_TQp6Aw"
      },
      "outputs": [],
      "source": [
        "plt.figure(figsize=(12,8))\n",
        "sns.kdeplot(data=df, x=\"Year\", hue=\"Genre\");"
      ]
    },
    {
      "cell_type": "markdown",
      "metadata": {
        "id": "xSSJqxzJp6Aw"
      },
      "source": [
        "## seaborn.catplot\n",
        "This function provides access to several axes-level functions that show the relationship between a numerical and one or more categorical variables using one of several visual representations.\n",
        "Check [seaborn.catplot](https://seaborn.pydata.org/generated/seaborn.catplot.html) for additional info"
      ]
    },
    {
      "cell_type": "code",
      "execution_count": null,
      "metadata": {
        "id": "j3Nvg8i5p6Ax"
      },
      "outputs": [],
      "source": [
        "sns.catplot(data=df, x=\"Year\", kind=\"count\", aspect=2, color='steelblue');"
      ]
    },
    {
      "cell_type": "code",
      "execution_count": null,
      "metadata": {
        "id": "l3IQojsXp6Ay"
      },
      "outputs": [],
      "source": [
        "sns.catplot(data=df, x=\"Year\", y=\"Rating\", aspect=2);"
      ]
    },
    {
      "cell_type": "code",
      "execution_count": null,
      "metadata": {
        "id": "cvAPH_tXp6A0"
      },
      "outputs": [],
      "source": [
        "sns.catplot(data=df, x=\"Year\", y=\"Rating\", hue=\"Genre\", aspect=2);"
      ]
    },
    {
      "cell_type": "markdown",
      "metadata": {
        "id": "KPoijyI-p6A1"
      },
      "source": [
        "For additional examples, check [seaborn: statistical data visualization](https://seaborn.pydata.org/index.html)\n",
        "and [Visualization with Seaborn](https://jakevdp.github.io/PythonDataScienceHandbook/04.14-visualization-with-seaborn.html)\n",
        "    "
      ]
    }
  ],
  "metadata": {
    "kernelspec": {
      "display_name": "Python 3",
      "language": "python",
      "name": "python3"
    },
    "language_info": {
      "codemirror_mode": {
        "name": "ipython",
        "version": 3
      },
      "file_extension": ".py",
      "mimetype": "text/x-python",
      "name": "python",
      "nbconvert_exporter": "python",
      "pygments_lexer": "ipython3",
      "version": "3.8.10"
    },
    "colab": {
      "provenance": []
    }
  },
  "nbformat": 4,
  "nbformat_minor": 0
}