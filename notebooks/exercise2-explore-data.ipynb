{
 "cells": [
  {
   "cell_type": "markdown",
   "metadata": {},
   "source": [
    "# Exercise 2 - Explore data using pandas\n",
    "\n",
    "Go to the website https://worldpopulationreview.com and download the *World Population* data as a csv file, or simply use our local copy stored in `./data/world-population-2022.csv`"
   ]
  },
  {
   "cell_type": "code",
   "execution_count": 116,
   "metadata": {},
   "outputs": [],
   "source": [
    "import pandas as pd\n",
    "data = pd.read_csv(\"./data/world-population-2022.csv\")"
   ]
  },
  {
   "cell_type": "markdown",
   "metadata": {},
   "source": [
    "### Analyse the dataset and select a subset of the data\n",
    "1. How many lines and columns?\n",
    "2. list all the columns\n",
    "3. Create a subset of the data, containing the columns `pop2022`, `area`, `Density`, `GrowthRate`, using the following command:\n",
    "\n",
    "        wp1 = data[['name', 'pop2022', 'area', 'GrowthRate', \"rank\"]].copy()\n",
    "\n"
   ]
  },
  {
   "cell_type": "markdown",
   "metadata": {
    "tags": []
   },
   "source": [
    "### Expore the data\n",
    "1. show the data for the first 5 countries\n",
    "2. show the data for the last 10 countries\n",
    "3. show the data from countries ranked between 90 and 100 \n",
    "4. Check if `Portugal` is in the list \n",
    "5. Show the statistics for `Portugal`"
   ]
  },
  {
   "cell_type": "code",
   "execution_count": null,
   "metadata": {},
   "outputs": [],
   "source": []
  },
  {
   "cell_type": "markdown",
   "metadata": {},
   "source": [
    "### Operate on data\n",
    "2. Add a new country named `Tamriel` with a population of 3500000 and an area of 10000000 square meters\n",
    "\n",
    "3. Change the area of `Tamriel` to 9000000\n",
    "\n",
    "4. Create a new column `density`, based on the `area` and `pop2022`, which corresponds to the number of people per square meters. Note that the population count is in thousands.\n",
    "\n",
    "5. Check that this column has similar values to the column `Density` in the original data \n",
    "\n",
    "6. Create a new dataframe `wp2`, where the country name is the dataframe index"
   ]
  },
  {
   "cell_type": "code",
   "execution_count": null,
   "metadata": {},
   "outputs": [],
   "source": []
  },
  {
   "cell_type": "markdown",
   "metadata": {},
   "source": [
    "### Perform calculations\n",
    "\n",
    "1. Calculate the `mean` of the area of the 10 most poputaled countries\n",
    "2. How many countries have a GrowthRate above 1.03?\n",
    "3. How many countries have an area above 1 million square meteres?"
   ]
  },
  {
   "cell_type": "code",
   "execution_count": null,
   "metadata": {},
   "outputs": [],
   "source": []
  }
 ],
 "metadata": {
  "kernelspec": {
   "display_name": "Python 3",
   "language": "python",
   "name": "python3"
  },
  "language_info": {
   "codemirror_mode": {
    "name": "ipython",
    "version": 3
   },
   "file_extension": ".py",
   "mimetype": "text/x-python",
   "name": "python",
   "nbconvert_exporter": "python",
   "pygments_lexer": "ipython3",
   "version": "3.6.9"
  }
 },
 "nbformat": 4,
 "nbformat_minor": 4
}
