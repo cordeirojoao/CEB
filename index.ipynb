{
 "cells": [
  {
   "cell_type": "markdown",
   "metadata": {},
   "source": [
    "# Computing for Economics and Business (03875)\n",
    "## 2020/2021 - 2nd Semester\n",
    "\n",
    "`fernando.batista@iscte-iul.pt`\n"
   ]
  },
  {
   "cell_type": "markdown",
   "metadata": {},
   "source": [
    "### Contents\n",
    "- Fundamentals\n",
    "    - [Data types, data structures, functions and objects in python](./01-intro-python.ipynb)\n",
    "        - [homework exercises](./01-intro-python-hw.ipynb)\n",
    "    - [The basics of NumPy arrays](./02-numpy.ipynb)\n",
    "- Data Analysis and Visualization\n",
    "    - [Introducing Pandas and its main data structures](./03-pandas.ipynb)\n",
    "        - [Introducing Pandas Objects](./PythonDataScienceHandbook/03.01-Introducing-Pandas-Objects.ipynb)\n",
    "        - [Data Indexing and Selection](./PythonDataScienceHandbook/03.02-Data-Indexing-and-Selection.ipynb)\n",
    "        - [Operating on Data in Pandas](./PythonDataScienceHandbook/03.03-Operations-in-Pandas.ipynb)\n",
    "        - [Practical example: IMBD database](./03-practical-example.ipynb)\n",
    "    - Load, structure and save data\n",
    "        - [Pandas data selection, explore, load and save data (short summary)](./pandas-basics.ipynb)\n",
    "    - Data aggregation and grouping, and Pivot Tables\n",
    "    - [Data visualization: sample plots with matplotlib and seaborn](./06-matplotlib.ipynb)\n",
    "- Statistical Analysis and Machine learning\n",
    "    - Statistical and predictive analysis\n",
    "    - Introduction to Machine Learning: Case study"
   ]
  },
  {
   "cell_type": "markdown",
   "metadata": {},
   "source": [
    "Please read the book [Python Data Science Handbook: Essential Tools for Working with Data](https://jakevdp.github.io/PythonDataScienceHandbook/) by Jake VanderPlas, for additional information about these subjects"
   ]
  },
  {
   "cell_type": "markdown",
   "metadata": {},
   "source": [
    "### Warning\n",
    "\n",
    "The contents of this folder are periodically updated, which reset your changes and delet any file that you may have added. So, don't put your files here, put them in any other directory inside your home directory."
   ]
  }
 ],
 "metadata": {
  "kernelspec": {
   "display_name": "Python 3",
   "language": "python",
   "name": "python3"
  },
  "language_info": {
   "codemirror_mode": {
    "name": "ipython",
    "version": 3
   },
   "file_extension": ".py",
   "mimetype": "text/x-python",
   "name": "python",
   "nbconvert_exporter": "python",
   "pygments_lexer": "ipython3",
   "version": "3.8.5"
  }
 },
 "nbformat": 4,
 "nbformat_minor": 4
}
