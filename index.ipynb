{
 "cells": [
  {
   "cell_type": "markdown",
   "metadata": {},
   "source": [
    "# Computing for Economics and Business (03875)\n",
    "## 2020/2021 - 2nd Semester\n",
    "\n",
    "`fernando.batista@iscte-iul.pt`\n"
   ]
  },
  {
   "cell_type": "markdown",
   "metadata": {},
   "source": [
    "**[Project Assignment](./Project/ceb-project.ipynb)**"
   ]
  },
  {
   "cell_type": "markdown",
   "metadata": {},
   "source": [
    "### Contents\n",
    "- Fundamentals\n",
    "    - [Data types, data structures, functions and objects in python](./01-intro-python.ipynb)\n",
    "        - [homework exercises](./01-intro-python-hw.ipynb)\n",
    "    - [The basics of NumPy arrays](./01-numpy.ipynb)\n",
    "    - [Basic plotting with matplotlib and seaborn](./01-matplotlib.ipynb)\n",
    "- Data Analysis and Visualization\n",
    "    - [Introducing Pandas and its main data structures](./03-pandas.ipynb)\n",
    "        - [Introducing Pandas Objects](./PythonDataScienceHandbook/03.01-Introducing-Pandas-Objects.ipynb)\n",
    "        - [Data Indexing and Selection](./PythonDataScienceHandbook/03.02-Data-Indexing-and-Selection.ipynb)\n",
    "        - [Operating on Data in Pandas](./PythonDataScienceHandbook/03.03-Operations-in-Pandas.ipynb)\n",
    "        - [Handling Missing Data](./PythonDataScienceHandbook/03.04-Missing-Values.ipynb)\n",
    "    - Load, structure and save data\n",
    "        - [Pandas data selection, explore, load and save data (small dataset)](./pandas-data-exploring-small.ipynb)\n",
    "    - Hierarchical Indexing, Data aggregation and grouping\n",
    "        - [Hierarchical Indexing](./PythonDataScienceHandbook/03.05-Hierarchical-Indexing.ipynb)\n",
    "        - [Data Aggregation and grouping](./PythonDataScienceHandbook/03.08-Aggregation-and-Grouping.ipynb)\n",
    "    - Combining Datasets\n",
    "        - [Concat and Append](./PythonDataScienceHandbook/03.06-Concat-And-Append.ipynb)\n",
    "        - [Merge and Join](./PythonDataScienceHandbook/03.07-Merge-and-Join.ipynb)\n",
    "    - Practical examples\n",
    "        - [Practical example](./03-practical-example.ipynb) - IMBD database\n",
    "        - [Practical example](./pandas-reading-exploring.ipynb) - Happiness with Continent dataset\n",
    "    - Data visualization: [Chapter 4 - Python Data Science Handbook](https://jakevdp.github.io/PythonDataScienceHandbook/index.html)\n",
    "        - [Visualization with Seaborn](https://jakevdp.github.io/PythonDataScienceHandbook/04.14-visualization-with-seaborn.html)\n",
    "- Statistical Analysis and Machine learning\n",
    "    - Statistical and predictive analysis\n",
    "    - Introduction to Machine Learning: Case study"
   ]
  },
  {
   "cell_type": "markdown",
   "metadata": {},
   "source": [
    "Please read the book [Python Data Science Handbook: Essential Tools for Working with Data](https://jakevdp.github.io/PythonDataScienceHandbook/) by Jake VanderPlas, for additional information about these subjects"
   ]
  },
  {
   "cell_type": "markdown",
   "metadata": {},
   "source": [
    "### Warning\n",
    "\n",
    "The contents of this folder are periodically updated, which reset your changes and delet any file that you may have added. So, don't put your files here, put them in any other directory inside your home directory."
   ]
  },
  {
   "cell_type": "markdown",
   "metadata": {},
   "source": [
    "### Addicional resources\n",
    " - [Pandas Exercises, Practice, Solution](https://www.w3resource.com/python-exercises/pandas/index.php)"
   ]
  }
 ],
 "metadata": {
  "kernelspec": {
   "display_name": "Python 3",
   "language": "python",
   "name": "python3"
  },
  "language_info": {
   "codemirror_mode": {
    "name": "ipython",
    "version": 3
   },
   "file_extension": ".py",
   "mimetype": "text/x-python",
   "name": "python",
   "nbconvert_exporter": "python",
   "pygments_lexer": "ipython3",
   "version": "3.8.5"
  }
 },
 "nbformat": 4,
 "nbformat_minor": 4
}
